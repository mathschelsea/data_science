{
  "nbformat": 4,
  "nbformat_minor": 0,
  "metadata": {
    "colab": {
      "provenance": [],
      "authorship_tag": "ABX9TyOvPMuyCtxD1iT7Cl4mSWXM",
      "include_colab_link": true
    },
    "kernelspec": {
      "name": "python3",
      "display_name": "Python 3"
    },
    "language_info": {
      "name": "python"
    }
  },
  "cells": [
    {
      "cell_type": "markdown",
      "metadata": {
        "id": "view-in-github",
        "colab_type": "text"
      },
      "source": [
        "<a href=\"https://colab.research.google.com/github/mathschelsea/data_science/blob/feature%2Fllm_underthehood/LLM_underthehood.ipynb\" target=\"_parent\"><img src=\"https://colab.research.google.com/assets/colab-badge.svg\" alt=\"Open In Colab\"/></a>"
      ]
    },
    {
      "cell_type": "code",
      "execution_count": 10,
      "metadata": {
        "colab": {
          "base_uri": "https://localhost:8080/"
        },
        "id": "eECSGuSGC9xR",
        "outputId": "cb8ce36e-a7ab-4c3b-de5e-2f1ba12e1241"
      },
      "outputs": [
        {
          "output_type": "stream",
          "name": "stdout",
          "text": [
            "--2023-10-05 18:41:25--  https://raw.githubusercontent.com/mathschelsea/data_science/feature/llm_underthehood/data/raw/bandt_bogus_script.txt\n",
            "Resolving raw.githubusercontent.com (raw.githubusercontent.com)... 185.199.109.133, 185.199.108.133, 185.199.110.133, ...\n",
            "Connecting to raw.githubusercontent.com (raw.githubusercontent.com)|185.199.109.133|:443... connected.\n",
            "HTTP request sent, awaiting response... 200 OK\n",
            "Length: 25535 (25K) [text/plain]\n",
            "Saving to: ‘bandt_bogus_script.txt’\n",
            "\n",
            "\rbandt_bogus_script.   0%[                    ]       0  --.-KB/s               \rbandt_bogus_script. 100%[===================>]  24.94K  --.-KB/s    in 0.001s  \n",
            "\n",
            "2023-10-05 18:41:25 (21.3 MB/s) - ‘bandt_bogus_script.txt’ saved [25535/25535]\n",
            "\n"
          ]
        }
      ],
      "source": [
        "# Downloadeding Bill & Ted's Bogus Journey\n",
        "!wget https://raw.githubusercontent.com/mathschelsea/data_science/feature/llm_underthehood/data/raw/bandt_bogus_script.txt"
      ]
    },
    {
      "cell_type": "code",
      "source": [
        "# Reading in the script\n",
        "with open('bandt_bogus_script.txt', 'r', encoding='utf-8') as f:\n",
        "  text = f.read()"
      ],
      "metadata": {
        "id": "oSyBWsX_GS2u"
      },
      "execution_count": 19,
      "outputs": []
    },
    {
      "cell_type": "code",
      "source": [
        "print(f'Length of dataset in characters: {len(text)}')"
      ],
      "metadata": {
        "colab": {
          "base_uri": "https://localhost:8080/"
        },
        "id": "SbwytzObGtAa",
        "outputId": "52e34297-e53a-4a27-dbcd-16cfd9267530"
      },
      "execution_count": 20,
      "outputs": [
        {
          "output_type": "stream",
          "name": "stdout",
          "text": [
            "Length of dataset in characters: 24643\n"
          ]
        }
      ]
    },
    {
      "cell_type": "code",
      "source": [
        "# Looking at first 1000 characters\n",
        "print(text[:1000])"
      ],
      "metadata": {
        "colab": {
          "base_uri": "https://localhost:8080/"
        },
        "id": "kd3T9YZaG3VO",
        "outputId": "068fcfd7-f756-490b-88b0-7fdb01bc89c3"
      },
      "execution_count": 22,
      "outputs": [
        {
          "output_type": "stream",
          "name": "stdout",
          "text": [
            "It is time. \n",
            "They've reached the second crucial turning point in their destiny. Their message is about to \n",
            "reach millions. \n",
            "But... we will change all that. When our mission is successful... ...no longer will the world \n",
            "be dominated... \n",
            "...by the legacy of these two fools! No longer will we hear this: \n",
            "We will stop them now! \n",
            "Brothers and sisters... \n",
            "...are we ready? \n",
            "- Greetings, my excellent pupils. - Station. \n",
            "Let's continue our study of the physics of acoustical reverberation. Meet today's most non-bogus \n",
            "guest speakers. \n",
            "Say hello to Thomas Edison. \n",
            "Hello there. \n",
            "To help us on the musical side: Johann Sebastian Bach. \n",
            "And Sir James Martin \n",
            "of Faith No More... \n",
            "...founder of the Faith No More Spiritual and Theological Center. - Station! \n",
            "- Station! \n",
            "And a special treat \n",
            "from the 23rd century: \n",
            "Miss Ria Paschelle. \n",
            "Miss Paschelle is \n",
            "the inventor of the... \n",
            "...statiophonicoxygeneticamp \n",
            "lifiagraphiphonideliverberator. Hard to imagine the world \n",
            "without them, isn't it? \n",
            "Remember, this\n"
          ]
        }
      ]
    },
    {
      "cell_type": "code",
      "source": [],
      "metadata": {
        "id": "7eVE9k1qHMWD"
      },
      "execution_count": null,
      "outputs": []
    }
  ]
}